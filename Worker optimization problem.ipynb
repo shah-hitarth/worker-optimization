{
 "cells": [
  {
   "cell_type": "markdown",
   "metadata": {},
   "source": [
    "Calculates minimum time to complete a task with 5 workers. inputList is the list of task times"
   ]
  },
  {
   "cell_type": "code",
   "execution_count": 1,
   "metadata": {},
   "outputs": [],
   "source": [
    "import numpy as np"
   ]
  },
  {
   "cell_type": "code",
   "execution_count": 76,
   "metadata": {},
   "outputs": [
    {
     "name": "stdout",
     "output_type": "stream",
     "text": [
      "total count: 16\n"
     ]
    }
   ],
   "source": [
    "# inputList = np.array([1,2,3,4,5,6,7,8,9,10])\n",
    "# inputList = np.array([1,2,3])\n",
    "inputList = np.array([4,6,6,6,6,7,8,10,10,10])\n",
    "count = 0\n",
    "\n",
    "ls = np.sort(inputList)[::-1]\n",
    "\n",
    "tempArray = ls[0:5]\n",
    "ls = ls[len(tempArray):]\n",
    "while(len(tempArray)>0):\n",
    "    tempArray.sort()    \n",
    "    count += tempArray[0]\n",
    "    tempArray = tempArray - tempArray[0]\n",
    "    tempArray = [b for b in tempArray if b != 0]\n",
    "    reqValues = 5-len(tempArray)\n",
    "    tempArray = np.append(tempArray,ls[0:reqValues])\n",
    "    ls = ls[reqValues:]\n",
    "\n",
    "print('total count: ' + str(count))"
   ]
  }
 ],
 "metadata": {
  "kernelspec": {
   "display_name": "Python 3",
   "language": "python",
   "name": "python3"
  },
  "language_info": {
   "codemirror_mode": {
    "name": "ipython",
    "version": 3
   },
   "file_extension": ".py",
   "mimetype": "text/x-python",
   "name": "python",
   "nbconvert_exporter": "python",
   "pygments_lexer": "ipython3",
   "version": "3.7.3"
  }
 },
 "nbformat": 4,
 "nbformat_minor": 2
}
